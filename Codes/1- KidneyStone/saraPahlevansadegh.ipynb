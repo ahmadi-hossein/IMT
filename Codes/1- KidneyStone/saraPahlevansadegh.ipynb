{
 "cells": [
  {
   "cell_type": "markdown",
   "id": "fd828f22",
   "metadata": {},
   "source": [
    "# split_dataset"
   ]
  },
  {
   "cell_type": "code",
   "execution_count": null,
   "id": "4f55188d",
   "metadata": {},
   "outputs": [],
   "source": [
    "import os\n",
    "import shutil\n",
    "import random\n",
    "\n",
    "input_dir = \"C:/Users/pc/Documents/project machin learning/IMT/Datasets/1- KideyStone/dataset\"\n",
    "output_dir = \"C:/Users/pc/Documents/project machin learning/IMT/Datasets/1- KideyStone/dataset_split\"\n",
    "\n",
    "def split_dataset(input_dir, output_dir, train_ratio=0.7, val_ratio=0.15, test_ratio=0.15):\n",
    "    classes = os.listdir(input_dir)\n",
    "    for cls in classes:\n",
    "        class_path = os.path.join(input_dir, cls)\n",
    "        images = os.listdir(class_path)\n",
    "        random.shuffle(images)\n",
    "\n",
    "        train_end = int(len(images)*train_ratio)\n",
    "        val_end = train_end + int(len(images)*val_ratio)\n",
    "\n",
    "        splits = {\n",
    "            'train': images[:train_end],\n",
    "            'val': images[train_end:val_end],\n",
    "            'test': images[val_end:]\n",
    "        }\n",
    "\n",
    "        for split in splits:\n",
    "            split_dir = os.path.join(output_dir, split, cls)\n",
    "            os.makedirs(split_dir, exist_ok=True)\n",
    "            for img in splits[split]:\n",
    "                src_path = os.path.join(class_path, img)\n",
    "                dst_path = os.path.join(split_dir, img)\n",
    "                shutil.copy(src_path, dst_path)\n",
    "\n",
    "split_dataset(input_dir, output_dir)\n"
   ]
  },
  {
   "cell_type": "markdown",
   "id": "1d8e2629",
   "metadata": {},
   "source": [
    "# augmentation_pipeline"
   ]
  },
  {
   "cell_type": "code",
   "execution_count": null,
   "id": "70671dcb",
   "metadata": {},
   "outputs": [],
   "source": [
    "from torchvision import transforms\n",
    "from PIL import Image\n",
    "import os\n",
    "import shutil\n",
    "\n",
    "train_dir = r\"C:/Users/pc/Documents/project machin learning/IMT/Datasets/1- KideyStone/dataset_split/train\"\n",
    "augmented_dir = r\"C:/Users/pc/Documents/project machin learning/IMT/Datasets/1- KideyStone/augmentation_train\"\n",
    "\n",
    "# Resize \n",
    "resize_transform = transforms.Resize((512, 512))\n",
    "\n",
    "# Augmentation\n",
    "augmentation = transforms.Compose([\n",
    "    transforms.RandomHorizontalFlip(p=0.5),\n",
    "    transforms.RandomRotation(degrees=15),\n",
    "    transforms.ColorJitter(brightness=0.2, contrast=0.2),\n",
    "    transforms.RandomResizedCrop(size=(512, 512), scale=(0.8, 1.0)),\n",
    "])\n",
    "\n",
    "os.makedirs(augmented_dir, exist_ok=True)\n",
    "\n",
    "classes = [d for d in os.listdir(train_dir) if os.path.isdir(os.path.join(train_dir, d))]\n",
    "\n",
    "# =========================================\n",
    "\n",
    "\n",
    "for cls in classes:\n",
    "    class_input_path = os.path.join(train_dir, cls)\n",
    "    class_output_path = os.path.join(augmented_dir, cls)\n",
    "    os.makedirs(class_output_path, exist_ok=True)\n",
    "\n",
    "    for img_file in os.listdir(class_input_path):\n",
    "        if img_file.lower().endswith(('.jpg', '.jpeg', '.png')):\n",
    "            src = os.path.join(class_input_path, img_file)\n",
    "            dst = os.path.join(class_output_path, img_file)\n",
    "            shutil.copy(src, dst)  # 👈 اضافه شده\n",
    "\n",
    "# =========================================\n",
    "\n",
    "for cls in classes:\n",
    "    class_input_path = os.path.join(train_dir, cls)\n",
    "    class_output_path = os.path.join(augmented_dir, cls)\n",
    "\n",
    "    images = [img for img in os.listdir(class_input_path) if img.lower().endswith(('.jpg', '.jpeg', '.png'))]\n",
    "\n",
    "    print(f\"Processing class '{cls}' with {len(images)} images...\")\n",
    "\n",
    "    for idx, img_file in enumerate(images):\n",
    "        img_path = os.path.join(class_input_path, img_file)\n",
    "        image = Image.open(img_path).convert(\"RGB\")\n",
    "\n",
    "        # Resize ثابت 512x512\n",
    "        image = resize_transform(image)\n",
    "\n",
    "        for i in range(3):\n",
    "            augmented_img = augmentation(image)\n",
    "            save_path = os.path.join(class_output_path, f\"{os.path.splitext(img_file)[0]}_aug{i+1}.jpg\")\n",
    "            augmented_img.save(save_path)\n",
    "\n",
    "print(\" Augmentation Images Done.\")"
   ]
  },
  {
   "cell_type": "code",
   "execution_count": 52,
   "id": "7fd1fc14",
   "metadata": {},
   "outputs": [],
   "source": [
    "import os\n",
    "import torch\n",
    "import torch.nn as nn\n",
    "from torchvision import datasets, models, transforms\n",
    "from torch.utils.data import DataLoader\n",
    "from sklearn.metrics import classification_report, confusion_matrix\n",
    "import matplotlib.pyplot as plt"
   ]
  },
  {
   "cell_type": "code",
   "execution_count": 53,
   "id": "03ad801d",
   "metadata": {},
   "outputs": [],
   "source": [
    "# (CPU or GPU)\n",
    "\n",
    "device = torch.device(\"cuda\" if torch.cuda.is_available() else \"cpu\")\n"
   ]
  },
  {
   "cell_type": "code",
   "execution_count": 54,
   "id": "cac6142a",
   "metadata": {},
   "outputs": [],
   "source": [
    "train_dir = r\"C:/Users/pc/Documents/project machin learning/IMT/Datasets/1- KideyStone/augmentation_train\"\n",
    "val_dir =  r\"C:/Users/pc/Documents/project machin learning/IMT/Datasets/1- KideyStone/dataset_split/val\"\n",
    "test_dir =  r\"C:/Users/pc/Documents/project machin learning/IMT\\Datasets/1- KideyStone/dataset_split/test\""
   ]
  },
  {
   "cell_type": "code",
   "execution_count": 56,
   "id": "08aa90d6",
   "metadata": {},
   "outputs": [],
   "source": [
    "data_transforms = {\n",
    "    'train': transforms.Compose([\n",
    "        transforms.Resize((224, 224)),\n",
    "        transforms.RandomHorizontalFlip(p=0.5),\n",
    "        transforms.RandomRotation(15),\n",
    "        transforms.ColorJitter(brightness=0.2, contrast=0.2),\n",
    "        transforms.ToTensor(),\n",
    "    ]),\n",
    "    'val': transforms.Compose([\n",
    "        transforms.Resize((224, 224)),\n",
    "        transforms.ToTensor(),\n",
    "    ]),\n",
    "    'test': transforms.Compose([\n",
    "        transforms.Resize((224, 224)),\n",
    "        transforms.ToTensor(),\n",
    "    ]),\n",
    "}\n"
   ]
  },
  {
   "cell_type": "code",
   "execution_count": 57,
   "id": "17c1a7ac",
   "metadata": {},
   "outputs": [],
   "source": [
    "image_datasets = {\n",
    "    'train': datasets.ImageFolder(train_dir, transform=data_transforms['train']),\n",
    "    'val': datasets.ImageFolder(val_dir, transform=data_transforms['val']),\n",
    "    'test': datasets.ImageFolder(test_dir, transform=data_transforms['test']),\n",
    "}"
   ]
  },
  {
   "cell_type": "code",
   "execution_count": null,
   "id": "4238b222",
   "metadata": {},
   "outputs": [
    {
     "name": "stdout",
     "output_type": "stream",
     "text": [
      "Classes: ['Normal', 'stone']\n"
     ]
    }
   ],
   "source": [
    "dataLoaders = {\n",
    "    x: DataLoader(image_datasets[x], batch_size=32, shuffle=(x=='train'))\n",
    "    for x in ['train', 'val', 'test']\n",
    "}\n",
    "\n",
    "\n",
    "class_name = image_datasets['train'].classes\n",
    "print(f\"Classes: {class_name}\")"
   ]
  },
  {
   "cell_type": "code",
   "execution_count": null,
   "id": "4001ccff",
   "metadata": {},
   "outputs": [],
   "source": [
    "model = models.resnet18(pretrained=True)\n",
    "\n",
    "# فریز کردن همه‌ی لایه‌ها\n",
    "for param in model.parameters():\n",
    "    param.requires_grad = False\n",
    "\n",
    "# fully connected \n",
    "num_ftrs = model.fc.in_features\n",
    "model.fc = nn.Linear(num_ftrs, 2)\n",
    "\n",
    "\n",
    "for param in model.fc.parameters():\n",
    "    param.requires_grad = True\n",
    "\n",
    "model = model.to(device)\n"
   ]
  },
  {
   "cell_type": "code",
   "execution_count": 60,
   "id": "3a6b7338",
   "metadata": {},
   "outputs": [],
   "source": [
    "class_weights = [2.0, 1.0] # کلاس Normal (کلاس 0) وزن بیشتری دارد\n",
    "weights = torch.FloatTensor(class_weights).to(device)\n",
    "criterion = nn.CrossEntropyLoss(weight=weights)\n"
   ]
  },
  {
   "cell_type": "code",
   "execution_count": 61,
   "id": "d2071e88",
   "metadata": {},
   "outputs": [],
   "source": [
    "# criterion = nn.CrossEntropyLoss()\n",
    "optimizer = torch.optim.Adam(model.fc.parameters(), lr=1e-4)\n",
    "\n"
   ]
  },
  {
   "cell_type": "code",
   "execution_count": 62,
   "id": "b9c0123a",
   "metadata": {},
   "outputs": [
    {
     "name": "stdout",
     "output_type": "stream",
     "text": [
      "\n",
      "Epoch 1/10\n",
      "train Loss: 0.2953 Acc: 0.8706\n",
      "val Loss: 0.1200 Acc: 0.9719\n",
      "\n",
      "Epoch 2/10\n",
      "train Loss: 0.1637 Acc: 0.9327\n",
      "val Loss: 0.0782 Acc: 0.9792\n",
      "\n",
      "Epoch 3/10\n",
      "train Loss: 0.1355 Acc: 0.9452\n",
      "val Loss: 0.0602 Acc: 0.9854\n",
      "\n",
      "Epoch 4/10\n",
      "train Loss: 0.1212 Acc: 0.9502\n",
      "val Loss: 0.0482 Acc: 0.9861\n",
      "\n",
      "Epoch 5/10\n",
      "train Loss: 0.1111 Acc: 0.9535\n",
      "val Loss: 0.0427 Acc: 0.9900\n",
      "\n",
      "Epoch 6/10\n",
      "train Loss: 0.1062 Acc: 0.9567\n",
      "val Loss: 0.0385 Acc: 0.9900\n",
      "\n",
      "Epoch 7/10\n",
      "train Loss: 0.1020 Acc: 0.9571\n",
      "val Loss: 0.0347 Acc: 0.9927\n",
      "\n",
      "Epoch 8/10\n",
      "train Loss: 0.0955 Acc: 0.9604\n",
      "val Loss: 0.0321 Acc: 0.9927\n",
      "\n",
      "Epoch 9/10\n",
      "train Loss: 0.0973 Acc: 0.9602\n",
      "val Loss: 0.0311 Acc: 0.9923\n",
      "\n",
      "Epoch 10/10\n",
      "train Loss: 0.0908 Acc: 0.9627\n",
      "val Loss: 0.0324 Acc: 0.9908\n"
     ]
    }
   ],
   "source": [
    "num_epochs = 10\n",
    "\n",
    "for epoch in range(num_epochs):\n",
    "    print(f\"\\nEpoch {epoch+1}/{num_epochs}\")\n",
    "    \n",
    "    for phase in ['train', 'val']:\n",
    "        if phase == 'train':\n",
    "            model.train()\n",
    "        else:\n",
    "            model.eval()\n",
    "\n",
    "        running_loss = 0.0\n",
    "        running_corrects = 0  \n",
    "\n",
    "        for inputs, labels in dataLoaders[phase]:\n",
    "            inputs = inputs.to(device)\n",
    "            labels = labels.to(device)\n",
    "\n",
    "            optimizer.zero_grad()\n",
    "\n",
    "            with torch.set_grad_enabled(phase == 'train'):\n",
    "                outputs = model(inputs)\n",
    "                _, preds = torch.max(outputs, 1)\n",
    "                loss = criterion(outputs, labels)\n",
    "\n",
    "                if phase == 'train':\n",
    "                    loss.backward()\n",
    "                    optimizer.step()\n",
    "\n",
    "            running_loss += loss.item() * inputs.size(0)\n",
    "            running_corrects += torch.sum(preds == labels.data)\n",
    "\n",
    "        epoch_loss = running_loss / len(image_datasets[phase])\n",
    "        epoch_acc = running_corrects.double() / len(image_datasets[phase])\n",
    "\n",
    "        print(f\"{phase} Loss: {epoch_loss:.4f} Acc: {epoch_acc:.4f}\")\n"
   ]
  },
  {
   "cell_type": "code",
   "execution_count": null,
   "id": "29425c12",
   "metadata": {},
   "outputs": [
    {
     "name": "stdout",
     "output_type": "stream",
     "text": [
      "\n",
      "Confusion Matrix:\n",
      "[[1206   10]\n",
      " [  20 1380]]\n",
      "\n",
      "Classification Report:\n",
      "              precision    recall  f1-score   support\n",
      "\n",
      "      Normal      0.984     0.992     0.988      1216\n",
      "       stone      0.993     0.986     0.989      1400\n",
      "\n",
      "    accuracy                          0.989      2616\n",
      "   macro avg      0.988     0.989     0.988      2616\n",
      "weighted avg      0.989     0.989     0.989      2616\n",
      "\n"
     ]
    },
    {
     "data": {
      "image/png": "[encoded data removed]",
      "text/plain": [
       "<Figure size 600x500 with 2 Axes>"
      ]
     },
     "metadata": {},
     "output_type": "display_data"
    }
   ],
   "source": [
    "# ==========================\n",
    "#  final eval test\n",
    "# ==========================\n",
    "\n",
    "model.eval()  \n",
    "all_preds = []\n",
    "all_labels = []\n",
    "\n",
    "with torch.no_grad():\n",
    "    for inputs, labels in dataLoaders['test']:\n",
    "        inputs = inputs.to(device)\n",
    "        labels = labels.to(device)\n",
    "\n",
    "        outputs = model(inputs)\n",
    "        _, preds = torch.max(outputs, 1)\n",
    "\n",
    "        all_preds.extend(preds.cpu().numpy())\n",
    "        all_labels.extend(labels.cpu().numpy())\n",
    "\n",
    "#   Confusion Matrix\n",
    "cm = confusion_matrix(all_labels, all_preds)\n",
    "print(\"\\nConfusion Matrix:\")\n",
    "print(cm)\n",
    "\n",
    "#   Classification Report (شامل) Precision، Recall، F1)\n",
    "report = classification_report(all_labels, all_preds, target_names=class_name, digits=3)\n",
    "print(\"\\nClassification Report:\")\n",
    "print(report)\n",
    "\n",
    "#   Confusion Matrix \n",
    "import seaborn as sns\n",
    "import numpy as np\n",
    "\n",
    "plt.figure(figsize=(6, 5))\n",
    "sns.heatmap(cm, annot=True, fmt='d', cmap='Blues', xticklabels=class_name, yticklabels=class_name)\n",
    "plt.xlabel('Predicted Labels')\n",
    "plt.ylabel('True Labels')\n",
    "plt.title('Confusion Matrix on Test Set')\n",
    "plt.tight_layout()\n",
    "plt.show()\n"
   ]
  }
 ],
 "metadata": {
  "kernelspec": {
   "display_name": "Python 3",
   "language": "python",
   "name": "python3"
  },
  "language_info": {
   "codemirror_mode": {
    "name": "ipython",
    "version": 3
   },
   "file_extension": ".py",
   "mimetype": "text/x-python",
   "name": "python",
   "nbconvert_exporter": "python",
   "pygments_lexer": "ipython3",
   "version": "3.10.0"
  }
 },
 "nbformat": 4,
 "nbformat_minor": 5
}
